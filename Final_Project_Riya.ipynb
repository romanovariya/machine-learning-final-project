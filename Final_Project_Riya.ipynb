{
 "cells": [
  {
   "cell_type": "markdown",
   "metadata": {
    "id": "fGTM3wKZyiNs"
   },
   "source": [
    "# Final Project "
   ]
  },
  {
   "cell_type": "code",
   "execution_count": 2,
   "metadata": {
    "id": "_95Jt36pyiNv"
   },
   "outputs": [],
   "source": [
    "import numpy as np\n",
    "import pandas as pd\n",
    "import matplotlib.pyplot as plt\n",
    "from sklearn.ensemble import RandomForestClassifier\n",
    "from sklearn.model_selection import GridSearchCV\n",
    "from sklearn.impute import SimpleImputer\n",
    "from sklearn.compose import ColumnTransformer\n",
    "from sklearn.preprocessing import OneHotEncoder, StandardScaler, LabelEncoder\n",
    "from sklearn.pipeline import make_pipeline, Pipeline\n",
    "from sklearn.base import BaseEstimator,TransformerMixin\n",
    "from sklearn.svm import SVC\n",
    "from sklearn.neighbors import KNeighborsClassifier\n",
    "from sklearn.model_selection import train_test_split\n",
    "\n",
    "%matplotlib inline"
   ]
  },
  {
   "cell_type": "code",
   "execution_count": 3,
   "metadata": {
    "colab": {
     "base_uri": "https://localhost:8080/",
     "height": 515
    },
    "id": "8xnIJPKEyiNx",
    "outputId": "c75f3e81-c888-4a6e-882c-0629b4598f0a"
   },
   "outputs": [
    {
     "data": {
      "text/html": [
       "<div>\n",
       "<style scoped>\n",
       "    .dataframe tbody tr th:only-of-type {\n",
       "        vertical-align: middle;\n",
       "    }\n",
       "\n",
       "    .dataframe tbody tr th {\n",
       "        vertical-align: top;\n",
       "    }\n",
       "\n",
       "    .dataframe thead th {\n",
       "        text-align: right;\n",
       "    }\n",
       "</style>\n",
       "<table border=\"1\" class=\"dataframe\">\n",
       "  <thead>\n",
       "    <tr style=\"text-align: right;\">\n",
       "      <th></th>\n",
       "      <th>imdb_title_id</th>\n",
       "      <th>title</th>\n",
       "      <th>original_title</th>\n",
       "      <th>year</th>\n",
       "      <th>date_published</th>\n",
       "      <th>genre</th>\n",
       "      <th>duration</th>\n",
       "      <th>country</th>\n",
       "      <th>language</th>\n",
       "      <th>director</th>\n",
       "      <th>...</th>\n",
       "      <th>actors</th>\n",
       "      <th>description</th>\n",
       "      <th>avg_vote</th>\n",
       "      <th>votes</th>\n",
       "      <th>budget</th>\n",
       "      <th>usa_gross_income</th>\n",
       "      <th>worlwide_gross_income</th>\n",
       "      <th>metascore</th>\n",
       "      <th>reviews_from_users</th>\n",
       "      <th>reviews_from_critics</th>\n",
       "    </tr>\n",
       "  </thead>\n",
       "  <tbody>\n",
       "    <tr>\n",
       "      <th>0</th>\n",
       "      <td>tt0000574</td>\n",
       "      <td>The Story of the Kelly Gang</td>\n",
       "      <td>The Story of the Kelly Gang</td>\n",
       "      <td>1906</td>\n",
       "      <td>1906-12-26</td>\n",
       "      <td>Biography, Crime, Drama</td>\n",
       "      <td>70</td>\n",
       "      <td>Australia</td>\n",
       "      <td>NaN</td>\n",
       "      <td>Charles Tait</td>\n",
       "      <td>...</td>\n",
       "      <td>Elizabeth Tait, John Tait, Norman Campbell, Be...</td>\n",
       "      <td>True story of notorious Australian outlaw Ned ...</td>\n",
       "      <td>6.1</td>\n",
       "      <td>537</td>\n",
       "      <td>$ 2250</td>\n",
       "      <td>NaN</td>\n",
       "      <td>NaN</td>\n",
       "      <td>NaN</td>\n",
       "      <td>7.0</td>\n",
       "      <td>7.0</td>\n",
       "    </tr>\n",
       "    <tr>\n",
       "      <th>1</th>\n",
       "      <td>tt0001892</td>\n",
       "      <td>Den sorte drøm</td>\n",
       "      <td>Den sorte drøm</td>\n",
       "      <td>1911</td>\n",
       "      <td>1911-08-19</td>\n",
       "      <td>Drama</td>\n",
       "      <td>53</td>\n",
       "      <td>Germany, Denmark</td>\n",
       "      <td>NaN</td>\n",
       "      <td>Urban Gad</td>\n",
       "      <td>...</td>\n",
       "      <td>Asta Nielsen, Valdemar Psilander, Gunnar Helse...</td>\n",
       "      <td>Two men of high rank are both wooing the beaut...</td>\n",
       "      <td>5.9</td>\n",
       "      <td>171</td>\n",
       "      <td>NaN</td>\n",
       "      <td>NaN</td>\n",
       "      <td>NaN</td>\n",
       "      <td>NaN</td>\n",
       "      <td>4.0</td>\n",
       "      <td>2.0</td>\n",
       "    </tr>\n",
       "    <tr>\n",
       "      <th>2</th>\n",
       "      <td>tt0002101</td>\n",
       "      <td>Cleopatra</td>\n",
       "      <td>Cleopatra</td>\n",
       "      <td>1912</td>\n",
       "      <td>1912-11-13</td>\n",
       "      <td>Drama, History</td>\n",
       "      <td>100</td>\n",
       "      <td>USA</td>\n",
       "      <td>English</td>\n",
       "      <td>Charles L. Gaskill</td>\n",
       "      <td>...</td>\n",
       "      <td>Helen Gardner, Pearl Sindelar, Miss Fielding, ...</td>\n",
       "      <td>The fabled queen of Egypt's affair with Roman ...</td>\n",
       "      <td>5.2</td>\n",
       "      <td>420</td>\n",
       "      <td>$ 45000</td>\n",
       "      <td>NaN</td>\n",
       "      <td>NaN</td>\n",
       "      <td>NaN</td>\n",
       "      <td>24.0</td>\n",
       "      <td>3.0</td>\n",
       "    </tr>\n",
       "  </tbody>\n",
       "</table>\n",
       "<p>3 rows × 22 columns</p>\n",
       "</div>"
      ],
      "text/plain": [
       "  imdb_title_id                        title               original_title  \\\n",
       "0     tt0000574  The Story of the Kelly Gang  The Story of the Kelly Gang   \n",
       "1     tt0001892               Den sorte drøm               Den sorte drøm   \n",
       "2     tt0002101                    Cleopatra                    Cleopatra   \n",
       "\n",
       "   year date_published                    genre  duration           country  \\\n",
       "0  1906     1906-12-26  Biography, Crime, Drama        70         Australia   \n",
       "1  1911     1911-08-19                    Drama        53  Germany, Denmark   \n",
       "2  1912     1912-11-13           Drama, History       100               USA   \n",
       "\n",
       "  language            director  ...  \\\n",
       "0      NaN        Charles Tait  ...   \n",
       "1      NaN           Urban Gad  ...   \n",
       "2  English  Charles L. Gaskill  ...   \n",
       "\n",
       "                                              actors  \\\n",
       "0  Elizabeth Tait, John Tait, Norman Campbell, Be...   \n",
       "1  Asta Nielsen, Valdemar Psilander, Gunnar Helse...   \n",
       "2  Helen Gardner, Pearl Sindelar, Miss Fielding, ...   \n",
       "\n",
       "                                         description avg_vote votes   budget  \\\n",
       "0  True story of notorious Australian outlaw Ned ...      6.1   537   $ 2250   \n",
       "1  Two men of high rank are both wooing the beaut...      5.9   171      NaN   \n",
       "2  The fabled queen of Egypt's affair with Roman ...      5.2   420  $ 45000   \n",
       "\n",
       "   usa_gross_income worlwide_gross_income metascore reviews_from_users  \\\n",
       "0               NaN                   NaN       NaN                7.0   \n",
       "1               NaN                   NaN       NaN                4.0   \n",
       "2               NaN                   NaN       NaN               24.0   \n",
       "\n",
       "   reviews_from_critics  \n",
       "0                   7.0  \n",
       "1                   2.0  \n",
       "2                   3.0  \n",
       "\n",
       "[3 rows x 22 columns]"
      ]
     },
     "execution_count": 3,
     "metadata": {},
     "output_type": "execute_result"
    }
   ],
   "source": [
    "full_dataset = pd.read_csv('IMDb movies.csv')\n",
    "full_dataset.head(3)"
   ]
  },
  {
   "cell_type": "markdown",
   "metadata": {
    "id": "Wzvrp0P6yiNy"
   },
   "source": [
    "## Part 1. Task formalization and Evaluation criteria\n",
    "\n",
    "1.1 Select your target variable, explain your choice. Separate target variable from the feature matrix."
   ]
  },
  {
   "cell_type": "code",
   "execution_count": 4,
   "metadata": {
    "colab": {
     "base_uri": "https://localhost:8080/"
    },
    "id": "f6_W3oypyiNy",
    "outputId": "ecdd9b72-c7a7-4bdd-cfe7-a8b1979b77c4"
   },
   "outputs": [
    {
     "data": {
      "text/plain": [
       "Index(['imdb_title_id', 'title', 'original_title', 'year', 'date_published',\n",
       "       'genre', 'duration', 'country', 'language', 'director', 'writer',\n",
       "       'production_company', 'actors', 'description', 'avg_vote', 'votes',\n",
       "       'budget', 'usa_gross_income', 'worlwide_gross_income', 'metascore',\n",
       "       'reviews_from_users', 'reviews_from_critics'],\n",
       "      dtype='object')"
      ]
     },
     "execution_count": 4,
     "metadata": {},
     "output_type": "execute_result"
    }
   ],
   "source": [
    "full_dataset.columns"
   ]
  },
  {
   "cell_type": "markdown",
   "metadata": {
    "id": "cYy3YdL8yiNz"
   },
   "source": [
    "I decided to choose avg_vote as a target variable. \n",
    "\n",
    "According to the task we are creating a model for film-producing company in order make sure that films are successful.\n",
    "\n",
    "Success is subjective because some Indian film from small production company  with avgerage vote equal to 9 and Marvel film with average vote 9 have different level of success. \n",
    "\n",
    "In this case I define success as an audience appreciation: if people liked the film - it is successful. That's why target variable is avg_vote"
   ]
  },
  {
   "cell_type": "code",
   "execution_count": 5,
   "metadata": {
    "colab": {
     "base_uri": "https://localhost:8080/",
     "height": 497
    },
    "id": "Uh983BuxyiNz",
    "outputId": "55466079-563d-41f6-b8ef-c01ee3918f8c"
   },
   "outputs": [
    {
     "data": {
      "text/html": [
       "<div>\n",
       "<style scoped>\n",
       "    .dataframe tbody tr th:only-of-type {\n",
       "        vertical-align: middle;\n",
       "    }\n",
       "\n",
       "    .dataframe tbody tr th {\n",
       "        vertical-align: top;\n",
       "    }\n",
       "\n",
       "    .dataframe thead th {\n",
       "        text-align: right;\n",
       "    }\n",
       "</style>\n",
       "<table border=\"1\" class=\"dataframe\">\n",
       "  <thead>\n",
       "    <tr style=\"text-align: right;\">\n",
       "      <th></th>\n",
       "      <th>imdb_title_id</th>\n",
       "      <th>title</th>\n",
       "      <th>original_title</th>\n",
       "      <th>year</th>\n",
       "      <th>date_published</th>\n",
       "      <th>genre</th>\n",
       "      <th>duration</th>\n",
       "      <th>country</th>\n",
       "      <th>language</th>\n",
       "      <th>director</th>\n",
       "      <th>...</th>\n",
       "      <th>actors</th>\n",
       "      <th>description</th>\n",
       "      <th>avg_vote</th>\n",
       "      <th>votes</th>\n",
       "      <th>budget</th>\n",
       "      <th>usa_gross_income</th>\n",
       "      <th>worlwide_gross_income</th>\n",
       "      <th>metascore</th>\n",
       "      <th>reviews_from_users</th>\n",
       "      <th>reviews_from_critics</th>\n",
       "    </tr>\n",
       "  </thead>\n",
       "  <tbody>\n",
       "    <tr>\n",
       "      <th>52002</th>\n",
       "      <td>tt10914342</td>\n",
       "      <td>Kirket</td>\n",
       "      <td>Kirket</td>\n",
       "      <td>2019</td>\n",
       "      <td>2019-10-18</td>\n",
       "      <td>Drama, Sport</td>\n",
       "      <td>132</td>\n",
       "      <td>India</td>\n",
       "      <td>Hindi</td>\n",
       "      <td>Yogendra Singh</td>\n",
       "      <td>...</td>\n",
       "      <td>Kirti Azad, Sonam Chhabra, Sonu Jha, Jai Kumar...</td>\n",
       "      <td>The story of how one man, single-handedly chan...</td>\n",
       "      <td>10.0</td>\n",
       "      <td>587</td>\n",
       "      <td>NaN</td>\n",
       "      <td>NaN</td>\n",
       "      <td>NaN</td>\n",
       "      <td>NaN</td>\n",
       "      <td>11.0</td>\n",
       "      <td>NaN</td>\n",
       "    </tr>\n",
       "    <tr>\n",
       "      <th>51300</th>\n",
       "      <td>tt10370434</td>\n",
       "      <td>Runam</td>\n",
       "      <td>Runam</td>\n",
       "      <td>2019</td>\n",
       "      <td>2019-04-12</td>\n",
       "      <td>Romance</td>\n",
       "      <td>131</td>\n",
       "      <td>India</td>\n",
       "      <td>Telugu</td>\n",
       "      <td>Srinivas Gundareddy</td>\n",
       "      <td>...</td>\n",
       "      <td>Priyanka Augustin, Gopi Krishna, Shilpa Mahendar</td>\n",
       "      <td>NaN</td>\n",
       "      <td>9.7</td>\n",
       "      <td>133</td>\n",
       "      <td>NaN</td>\n",
       "      <td>NaN</td>\n",
       "      <td>NaN</td>\n",
       "      <td>NaN</td>\n",
       "      <td>NaN</td>\n",
       "      <td>NaN</td>\n",
       "    </tr>\n",
       "    <tr>\n",
       "      <th>51927</th>\n",
       "      <td>tt10867504</td>\n",
       "      <td>Fan</td>\n",
       "      <td>Fan</td>\n",
       "      <td>2019</td>\n",
       "      <td>2019-08-23</td>\n",
       "      <td>Drama</td>\n",
       "      <td>145</td>\n",
       "      <td>India</td>\n",
       "      <td>Kannada</td>\n",
       "      <td>Balavalli Darshith Bhat</td>\n",
       "      <td>...</td>\n",
       "      <td>Ravi Bhat, Sangeetha Bhat, Aryan Gowda, Naveen...</td>\n",
       "      <td>Protagonist Drushya (Aryan Gowda) is a popular...</td>\n",
       "      <td>9.6</td>\n",
       "      <td>1010</td>\n",
       "      <td>INR 20000000</td>\n",
       "      <td>NaN</td>\n",
       "      <td>NaN</td>\n",
       "      <td>NaN</td>\n",
       "      <td>21.0</td>\n",
       "      <td>NaN</td>\n",
       "    </tr>\n",
       "  </tbody>\n",
       "</table>\n",
       "<p>3 rows × 22 columns</p>\n",
       "</div>"
      ],
      "text/plain": [
       "      imdb_title_id   title original_title  year date_published         genre  \\\n",
       "52002    tt10914342  Kirket         Kirket  2019     2019-10-18  Drama, Sport   \n",
       "51300    tt10370434   Runam          Runam  2019     2019-04-12       Romance   \n",
       "51927    tt10867504     Fan            Fan  2019     2019-08-23         Drama   \n",
       "\n",
       "       duration country language                 director  ...  \\\n",
       "52002       132   India    Hindi           Yogendra Singh  ...   \n",
       "51300       131   India   Telugu      Srinivas Gundareddy  ...   \n",
       "51927       145   India  Kannada  Balavalli Darshith Bhat  ...   \n",
       "\n",
       "                                                  actors  \\\n",
       "52002  Kirti Azad, Sonam Chhabra, Sonu Jha, Jai Kumar...   \n",
       "51300   Priyanka Augustin, Gopi Krishna, Shilpa Mahendar   \n",
       "51927  Ravi Bhat, Sangeetha Bhat, Aryan Gowda, Naveen...   \n",
       "\n",
       "                                             description avg_vote votes  \\\n",
       "52002  The story of how one man, single-handedly chan...     10.0   587   \n",
       "51300                                                NaN      9.7   133   \n",
       "51927  Protagonist Drushya (Aryan Gowda) is a popular...      9.6  1010   \n",
       "\n",
       "             budget  usa_gross_income worlwide_gross_income metascore  \\\n",
       "52002           NaN               NaN                   NaN       NaN   \n",
       "51300           NaN               NaN                   NaN       NaN   \n",
       "51927  INR 20000000               NaN                   NaN       NaN   \n",
       "\n",
       "      reviews_from_users  reviews_from_critics  \n",
       "52002               11.0                   NaN  \n",
       "51300                NaN                   NaN  \n",
       "51927               21.0                   NaN  \n",
       "\n",
       "[3 rows x 22 columns]"
      ]
     },
     "execution_count": 5,
     "metadata": {},
     "output_type": "execute_result"
    }
   ],
   "source": [
    "full_dataset.sort_values('avg_vote', ascending=False).head(3)"
   ]
  },
  {
   "cell_type": "markdown",
   "metadata": {
    "id": "HrBhwvVBaB4s"
   },
   "source": [
    "avg_vote is a discrete ordinal variable with values from 1 to 10 (89 values). As it is a user vote, we know that this value can't be more than 10 or less than 1. Here we can solve a classification problem. In order to do this I'll create a new feature which contains labels for user ratings in order to decrease number of classes. "
   ]
  },
  {
   "cell_type": "code",
   "execution_count": 6,
   "metadata": {
    "id": "bo79CBELPW-O"
   },
   "outputs": [],
   "source": [
    "#create 5 new classes\n",
    "\n",
    "conditions = [\n",
    "    (full_dataset['avg_vote'] < 3.5), \n",
    "    (full_dataset['avg_vote'] >= 3.5) & (full_dataset['avg_vote'] < 5.5), \n",
    "    (full_dataset['avg_vote'] >= 5.5) & (full_dataset['avg_vote'] < 7.5), \n",
    "    (full_dataset['avg_vote'] >= 7.5) & (full_dataset['avg_vote'] < 9.5),\n",
    "    (full_dataset['avg_vote'] >= 9.5) \n",
    "    \n",
    "]\n",
    "\n",
    "values = ['Bad', 'Satisfactory', 'Good', 'Very good', 'Excellent']\n",
    "\n",
    "full_dataset['success'] = np.select(conditions, values)"
   ]
  },
  {
   "cell_type": "markdown",
   "metadata": {
    "id": "TmI7UWcmyiN0"
   },
   "source": [
    "1.2 Explain which task are you going to solve (is it a regression, classification or something else)? "
   ]
  },
  {
   "cell_type": "markdown",
   "metadata": {
    "id": "0fpuQr_ryiN1"
   },
   "source": [
    "Classification task is about predicting a label and regression is about predicting a quantity. \n",
    "\n",
    "Classification predicts descrete class variables and a regression algorithm predicts continuous quantity. In this case we are going to solve a classification task using additional variable 'success' which contains categories for user votes. "
   ]
  },
  {
   "cell_type": "code",
   "execution_count": 7,
   "metadata": {
    "id": "Ii1fUh2TyiN1"
   },
   "outputs": [],
   "source": [
    "X = full_dataset.drop(columns=['avg_vote', 'success'])\n",
    "y = full_dataset['success']"
   ]
  },
  {
   "cell_type": "markdown",
   "metadata": {
    "id": "YI9JH6yhbLjN"
   },
   "source": [
    "In order to make our Ml algorithm work we should convert labels into a numeric form. For this we can use `LabelEncoder()`"
   ]
  },
  {
   "cell_type": "code",
   "execution_count": 8,
   "metadata": {
    "id": "v_0DnQd5SrHN"
   },
   "outputs": [],
   "source": [
    "le = LabelEncoder()\n",
    "y = le.fit_transform(y)"
   ]
  },
  {
   "cell_type": "markdown",
   "metadata": {
    "id": "A3uT-vIEyiN2"
   },
   "source": [
    "1.3 Select a metric. Is it already implemented in sklearn? If yes, import it. If not, it is time to write a function which will calculate it. "
   ]
  },
  {
   "cell_type": "code",
   "execution_count": 9,
   "metadata": {
    "id": "oGYxKvXvyiN2"
   },
   "outputs": [],
   "source": [
    "from sklearn.metrics import accuracy_score\n",
    "from sklearn.metrics import f1_score"
   ]
  },
  {
   "cell_type": "markdown",
   "metadata": {
    "id": "_v9KNO0lyiN2"
   },
   "source": [
    "## Part 2. Exploratory Data Analysis (EDA) and Feature Engineering\n"
   ]
  },
  {
   "cell_type": "markdown",
   "metadata": {
    "id": "nCW6lB21yiN2"
   },
   "source": [
    "### 2.1 Split data into train and test"
   ]
  },
  {
   "cell_type": "code",
   "execution_count": 10,
   "metadata": {
    "id": "i2n35oNryiN3"
   },
   "outputs": [],
   "source": [
    "X_train, X_test, y_train, y_test = train_test_split(X, y, test_size=0.30)"
   ]
  },
  {
   "cell_type": "markdown",
   "metadata": {
    "id": "0xa8kp9byiN3"
   },
   "source": [
    "### 2.2 Explore and preprocess the data\n",
    "\n",
    "Explore you data: make plots, print tables. Make sure to write your observations.  Do not forget to fill-in missing values, define relevant columns transformations. \n",
    "\n"
   ]
  },
  {
   "cell_type": "markdown",
   "metadata": {
    "id": "lFTTOAqQyiN3"
   },
   "source": [
    "#### Drop useless columns"
   ]
  },
  {
   "cell_type": "code",
   "execution_count": 11,
   "metadata": {
    "colab": {
     "base_uri": "https://localhost:8080/",
     "height": 491
    },
    "id": "HldZRWbFyiN4",
    "outputId": "e1a02c6f-4a99-43c1-9e42-14a529135f96"
   },
   "outputs": [
    {
     "name": "stdout",
     "output_type": "stream",
     "text": [
      "Number of numerical features = 6 \n",
      "\n",
      "Distribution of numerical features:\n"
     ]
    },
    {
     "data": {
      "image/png": "[encoded data removed]",
      "text/plain": [
       "<Figure size 1080x720 with 6 Axes>"
      ]
     },
     "metadata": {
      "needs_background": "light"
     },
     "output_type": "display_data"
    }
   ],
   "source": [
    "num_cols = X_train.columns[(X_train.dtypes == \"int64\") |(X_train.dtypes == \"float64\")].tolist() #\n",
    "print(\"Number of numerical features =\", len(num_cols), \"\\n\")\n",
    "\n",
    "print(\"Distribution of numerical features:\")\n",
    "X_train[num_cols].hist(bins=20, grid=True, figsize=(15, 10), layout=(2, 3))\n",
    "plt.show()"
   ]
  },
  {
   "cell_type": "markdown",
   "metadata": {
    "id": "6K_kht15yiN4"
   },
   "source": [
    "At first, let's handle the missing values. \n",
    "\n",
    "Let's see which columns have a missing values:\n"
   ]
  },
  {
   "cell_type": "code",
   "execution_count": 12,
   "metadata": {
    "colab": {
     "base_uri": "https://localhost:8080/"
    },
    "id": "f1C0W8cQyiN4",
    "outputId": "15f83e3b-1fc1-4288-899a-22de4909d367"
   },
   "outputs": [
    {
     "data": {
      "text/plain": [
       "imdb_title_id                0\n",
       "title                        0\n",
       "original_title               0\n",
       "year                         0\n",
       "date_published               0\n",
       "genre                        0\n",
       "duration                     0\n",
       "country                      3\n",
       "language                   303\n",
       "director                    14\n",
       "writer                     573\n",
       "production_company        1947\n",
       "actors                      23\n",
       "description               1388\n",
       "votes                        0\n",
       "budget                   30340\n",
       "usa_gross_income         33778\n",
       "worlwide_gross_income    28732\n",
       "metascore                35946\n",
       "reviews_from_users        2832\n",
       "reviews_from_critics      5740\n",
       "dtype: int64"
      ]
     },
     "execution_count": 12,
     "metadata": {},
     "output_type": "execute_result"
    }
   ],
   "source": [
    "X_train.isnull().sum()"
   ]
  },
  {
   "cell_type": "markdown",
   "metadata": {
    "id": "AcQmiN7tyiN5"
   },
   "source": [
    "Train dataset contains 42 000 objects and more that 65% of them have no info about budget, usa gross income and worlwide gross income. Thus I suppose to remove budget, usa_gross_income,worldwide gross income because there are too many missing values, different currencies and timeranges, so it is meaningless to compare them. Also I suppose to remove metascore because there are too many missing values. \n",
    "\n",
    "Also I would like to remove such features as imdb_title_id, title, original title, actors and description, because it is text informational data, which is not very useful for us and hard to interpretate. \n",
    "\n",
    "We have two columns defining date: year and full date. I suppose year is enough, so we can drop the date column. \n",
    "\n",
    "Also I suggest to drop director and writer, because we have info about production company, it is enougth to predict the success. There are too many unique writers and directors to pay attention on them. "
   ]
  },
  {
   "cell_type": "code",
   "execution_count": 13,
   "metadata": {
    "id": "ysxBGRNcyiN5"
   },
   "outputs": [],
   "source": [
    "X_train = X_train.drop(columns=['budget', 'usa_gross_income', 'worlwide_gross_income', 'actors', 'description',\n",
    "                                'imdb_title_id', 'title', 'original_title', 'metascore',\n",
    "                               'date_published', 'writer', 'director'])\n",
    "X_test = X_test.drop(columns=['budget', 'usa_gross_income', 'worlwide_gross_income', 'actors', 'description',\n",
    "                                'imdb_title_id', 'title', 'original_title', 'metascore',\n",
    "                             'date_published', 'writer', 'director'])\n"
   ]
  },
  {
   "cell_type": "code",
   "execution_count": 14,
   "metadata": {
    "colab": {
     "base_uri": "https://localhost:8080/",
     "height": 731
    },
    "id": "zpr0eWcHyiN5",
    "outputId": "3ea177a0-205c-4eeb-9602-432ac06aa637"
   },
   "outputs": [
    {
     "data": {
      "text/html": [
       "<div>\n",
       "<style scoped>\n",
       "    .dataframe tbody tr th:only-of-type {\n",
       "        vertical-align: middle;\n",
       "    }\n",
       "\n",
       "    .dataframe tbody tr th {\n",
       "        vertical-align: top;\n",
       "    }\n",
       "\n",
       "    .dataframe thead th {\n",
       "        text-align: right;\n",
       "    }\n",
       "</style>\n",
       "<table border=\"1\" class=\"dataframe\">\n",
       "  <thead>\n",
       "    <tr style=\"text-align: right;\">\n",
       "      <th></th>\n",
       "      <th>year</th>\n",
       "      <th>genre</th>\n",
       "      <th>duration</th>\n",
       "      <th>country</th>\n",
       "      <th>language</th>\n",
       "      <th>production_company</th>\n",
       "      <th>votes</th>\n",
       "      <th>reviews_from_users</th>\n",
       "      <th>reviews_from_critics</th>\n",
       "    </tr>\n",
       "  </thead>\n",
       "  <tbody>\n",
       "    <tr>\n",
       "      <th>47403</th>\n",
       "      <td>2006</td>\n",
       "      <td>Drama</td>\n",
       "      <td>91</td>\n",
       "      <td>Spain</td>\n",
       "      <td>Spanish</td>\n",
       "      <td>NaN</td>\n",
       "      <td>334</td>\n",
       "      <td>3.0</td>\n",
       "      <td>3.0</td>\n",
       "    </tr>\n",
       "    <tr>\n",
       "      <th>38665</th>\n",
       "      <td>1958</td>\n",
       "      <td>Drama, Romance</td>\n",
       "      <td>88</td>\n",
       "      <td>Turkey</td>\n",
       "      <td>Turkish</td>\n",
       "      <td>Emin Film</td>\n",
       "      <td>179</td>\n",
       "      <td>2.0</td>\n",
       "      <td>NaN</td>\n",
       "    </tr>\n",
       "    <tr>\n",
       "      <th>3701</th>\n",
       "      <td>1941</td>\n",
       "      <td>Drama</td>\n",
       "      <td>125</td>\n",
       "      <td>Germany</td>\n",
       "      <td>German</td>\n",
       "      <td>Tobis Filmkunst</td>\n",
       "      <td>133</td>\n",
       "      <td>11.0</td>\n",
       "      <td>2.0</td>\n",
       "    </tr>\n",
       "    <tr>\n",
       "      <th>57103</th>\n",
       "      <td>2009</td>\n",
       "      <td>Drama</td>\n",
       "      <td>100</td>\n",
       "      <td>Czech Republic</td>\n",
       "      <td>Czech</td>\n",
       "      <td>In Film Praha</td>\n",
       "      <td>650</td>\n",
       "      <td>3.0</td>\n",
       "      <td>45.0</td>\n",
       "    </tr>\n",
       "    <tr>\n",
       "      <th>31025</th>\n",
       "      <td>1963</td>\n",
       "      <td>Family, Drama</td>\n",
       "      <td>86</td>\n",
       "      <td>USA</td>\n",
       "      <td>English</td>\n",
       "      <td>Wrather Productions</td>\n",
       "      <td>199</td>\n",
       "      <td>5.0</td>\n",
       "      <td>1.0</td>\n",
       "    </tr>\n",
       "    <tr>\n",
       "      <th>...</th>\n",
       "      <td>...</td>\n",
       "      <td>...</td>\n",
       "      <td>...</td>\n",
       "      <td>...</td>\n",
       "      <td>...</td>\n",
       "      <td>...</td>\n",
       "      <td>...</td>\n",
       "      <td>...</td>\n",
       "      <td>...</td>\n",
       "    </tr>\n",
       "    <tr>\n",
       "      <th>50132</th>\n",
       "      <td>2006</td>\n",
       "      <td>Drama</td>\n",
       "      <td>96</td>\n",
       "      <td>Japan</td>\n",
       "      <td>Japanese</td>\n",
       "      <td>Love My Life Partners</td>\n",
       "      <td>761</td>\n",
       "      <td>7.0</td>\n",
       "      <td>4.0</td>\n",
       "    </tr>\n",
       "    <tr>\n",
       "      <th>53121</th>\n",
       "      <td>2009</td>\n",
       "      <td>Action, Horror, Sci-Fi</td>\n",
       "      <td>101</td>\n",
       "      <td>Serbia, Italy, Spain</td>\n",
       "      <td>English, Serbian</td>\n",
       "      <td>Talking Wolf Productions</td>\n",
       "      <td>2985</td>\n",
       "      <td>49.0</td>\n",
       "      <td>40.0</td>\n",
       "    </tr>\n",
       "    <tr>\n",
       "      <th>17460</th>\n",
       "      <td>1977</td>\n",
       "      <td>Horror</td>\n",
       "      <td>85</td>\n",
       "      <td>USA</td>\n",
       "      <td>English</td>\n",
       "      <td>NaN</td>\n",
       "      <td>332</td>\n",
       "      <td>9.0</td>\n",
       "      <td>11.0</td>\n",
       "    </tr>\n",
       "    <tr>\n",
       "      <th>24744</th>\n",
       "      <td>1990</td>\n",
       "      <td>Comedy</td>\n",
       "      <td>92</td>\n",
       "      <td>France</td>\n",
       "      <td>French</td>\n",
       "      <td>Hugo Films</td>\n",
       "      <td>458</td>\n",
       "      <td>NaN</td>\n",
       "      <td>NaN</td>\n",
       "    </tr>\n",
       "    <tr>\n",
       "      <th>56564</th>\n",
       "      <td>2009</td>\n",
       "      <td>Action, Drama</td>\n",
       "      <td>100</td>\n",
       "      <td>Japan</td>\n",
       "      <td>Japanese</td>\n",
       "      <td>Geneon Universal Entertainment</td>\n",
       "      <td>226</td>\n",
       "      <td>3.0</td>\n",
       "      <td>1.0</td>\n",
       "    </tr>\n",
       "  </tbody>\n",
       "</table>\n",
       "<p>42138 rows × 9 columns</p>\n",
       "</div>"
      ],
      "text/plain": [
       "       year                   genre  duration               country  \\\n",
       "47403  2006                   Drama        91                 Spain   \n",
       "38665  1958          Drama, Romance        88                Turkey   \n",
       "3701   1941                   Drama       125               Germany   \n",
       "57103  2009                   Drama       100        Czech Republic   \n",
       "31025  1963           Family, Drama        86                   USA   \n",
       "...     ...                     ...       ...                   ...   \n",
       "50132  2006                   Drama        96                 Japan   \n",
       "53121  2009  Action, Horror, Sci-Fi       101  Serbia, Italy, Spain   \n",
       "17460  1977                  Horror        85                   USA   \n",
       "24744  1990                  Comedy        92                France   \n",
       "56564  2009           Action, Drama       100                 Japan   \n",
       "\n",
       "               language              production_company  votes  \\\n",
       "47403           Spanish                             NaN    334   \n",
       "38665           Turkish                       Emin Film    179   \n",
       "3701             German                 Tobis Filmkunst    133   \n",
       "57103             Czech                   In Film Praha    650   \n",
       "31025           English             Wrather Productions    199   \n",
       "...                 ...                             ...    ...   \n",
       "50132          Japanese           Love My Life Partners    761   \n",
       "53121  English, Serbian        Talking Wolf Productions   2985   \n",
       "17460           English                             NaN    332   \n",
       "24744            French                      Hugo Films    458   \n",
       "56564          Japanese  Geneon Universal Entertainment    226   \n",
       "\n",
       "       reviews_from_users  reviews_from_critics  \n",
       "47403                 3.0                   3.0  \n",
       "38665                 2.0                   NaN  \n",
       "3701                 11.0                   2.0  \n",
       "57103                 3.0                  45.0  \n",
       "31025                 5.0                   1.0  \n",
       "...                   ...                   ...  \n",
       "50132                 7.0                   4.0  \n",
       "53121                49.0                  40.0  \n",
       "17460                 9.0                  11.0  \n",
       "24744                 NaN                   NaN  \n",
       "56564                 3.0                   1.0  \n",
       "\n",
       "[42138 rows x 9 columns]"
      ]
     },
     "execution_count": 14,
     "metadata": {},
     "output_type": "execute_result"
    }
   ],
   "source": [
    "X_train"
   ]
  },
  {
   "cell_type": "markdown",
   "metadata": {
    "id": "Z75gimuVyiN6"
   },
   "source": [
    "#### Defining column transformers"
   ]
  },
  {
   "cell_type": "markdown",
   "metadata": {
    "id": "qtx3irzTyiN6"
   },
   "source": [
    "We have a lot categorical features. \n",
    "\n",
    "Such features as `country`, `language` and `genre` may have string with more than one element as a value. The first value in each cell in such columns is more important and paramount, so I will extract only first value from strings in this columns using `ListCreator`\n",
    "\n",
    "\n",
    "Also we have a `production_company` categorical feature, there a lot of unique vales so using OHE will not be effective. Instead we will use frequency encoding: the category is assigned as per the frequency of value in its total lot. (`FreqEncoder`)\n",
    "\n",
    "Also for categorical features I created a transformer which fills missing values with 'Unknown' value `FillEmptyCat`.\n",
    "\n",
    "\n",
    "For all numeric features we will apply `StandardScaler`, for categorical features - `SimpleImputer`."
   ]
  },
  {
   "cell_type": "code",
   "execution_count": 15,
   "metadata": {
    "id": "fIayCrQEyiN6"
   },
   "outputs": [],
   "source": [
    "# this class returns first value from list of values of a feature\n",
    "class ListCreator(BaseEstimator,TransformerMixin):\n",
    "    def __init__(self,cols=None):\n",
    "        self.cols = cols\n",
    "\n",
    "    def fit(self,X,y=None):\n",
    "        return self\n",
    "    \n",
    "    def transform(self,X,y=None):\n",
    "        cols_to_transform = list(X.columns)\n",
    "        if self.cols:\n",
    "            cols_to_transform = self.cols\n",
    "        for col in cols_to_transform:\n",
    "          X[col] = X[col].apply(lambda x: x[:x.index(',')] if x.find(',') != -1 else x)\n",
    "        \n",
    "        return X\n"
   ]
  },
  {
   "cell_type": "code",
   "execution_count": 16,
   "metadata": {
    "id": "PEN76jT8yiN7"
   },
   "outputs": [],
   "source": [
    "# class that implements frequency encoding\n",
    "class FreqEncoder(BaseEstimator,TransformerMixin):\n",
    "    def __init__(self,cols=None):\n",
    "        self.cols = cols\n",
    "\n",
    "    def fit(self,X,y=None):\n",
    "        return self\n",
    "    \n",
    "    def transform(self,X,y=None):\n",
    "        cols_to_transform = list(X.columns)\n",
    "        if self.cols:\n",
    "            cols_to_transform = self.cols\n",
    "        for col in cols_to_transform:\n",
    "            freqs = (X.groupby(col).size())/len(X)\n",
    "            X[col] = X[col].apply(lambda x: freqs[x])\n",
    "                   \n",
    "        return X\n"
   ]
  },
  {
   "cell_type": "code",
   "execution_count": 17,
   "metadata": {
    "id": "9XB6JNV2yiN7"
   },
   "outputs": [],
   "source": [
    "#fill empty values with Unknown string\n",
    "class FillEmptyCat(BaseEstimator,TransformerMixin):\n",
    "    def __init__(self,cols=None):\n",
    "        self.cols = cols\n",
    "\n",
    "    def fit(self,X,y=None):\n",
    "        return self\n",
    "    \n",
    "    def transform(self,X,y=None):\n",
    "        cols_to_transform = list(X.columns)\n",
    "        if self.cols:\n",
    "            cols_to_transform = self.cols\n",
    "        for col in cols_to_transform:\n",
    "            X[col] = X[col].fillna(f'Unknown_{col}')\n",
    "        \n",
    "        return X"
   ]
  },
  {
   "cell_type": "code",
   "execution_count": 18,
   "metadata": {
    "id": "3pAqu3UcyiN8"
   },
   "outputs": [],
   "source": [
    "num_pipe = make_pipeline(\n",
    "    SimpleImputer(missing_values=np.nan, strategy='mean'),\n",
    "    StandardScaler()\n",
    ")\n",
    "\n",
    "lists_pipe = make_pipeline(\n",
    "    FillEmptyCat(),\n",
    "    ListCreator(),\n",
    "    OneHotEncoder(handle_unknown='ignore')\n",
    ") \n",
    "\n",
    "freq_pipe = make_pipeline(\n",
    "    FillEmptyCat(),\n",
    "    FreqEncoder()\n",
    ")\n",
    "\n",
    "\n",
    "\n",
    "column_transformer = ColumnTransformer([\n",
    "    ('strings_to_lists', lists_pipe, ['genre', 'country', 'language']),\n",
    "    ('frequency_encode', freq_pipe, ['production_company']),\n",
    "    ('num_scaler', num_pipe, ['year', 'duration', 'votes', 'reviews_from_users', 'reviews_from_critics'])\n",
    "],\n",
    "remainder='passthrough'\n",
    ")"
   ]
  },
  {
   "cell_type": "code",
   "execution_count": 19,
   "metadata": {
    "id": "d2CUjbIZyiN8"
   },
   "outputs": [],
   "source": [
    "model = Pipeline([\n",
    "    ('transformer', column_transformer),\n",
    "    ('classifier', KNeighborsClassifier())\n",
    "])"
   ]
  },
  {
   "cell_type": "markdown",
   "metadata": {
    "id": "or6qPvMCyiN8"
   },
   "source": [
    "### Part 3.\n",
    "\n",
    "Train and compare the models\n",
    "\n",
    "3.1. Select models, you are going to train, select hyperparameters that have to be tunes."
   ]
  },
  {
   "cell_type": "markdown",
   "metadata": {
    "id": "5l2R8BzqyiN8"
   },
   "source": [
    "Remember that this is a classification problem. In order to solve it I will use decision tree(Random forest, support vector machine and k-nearest neighbors. \n",
    "\n",
    "For RandomForestClassifier() I will tune n_estimators, max_depth.\n",
    "\n",
    "For SVC: C and kernel\n",
    "\n",
    "For KNN: n_neighbors"
   ]
  },
  {
   "cell_type": "markdown",
   "metadata": {
    "id": "19VL2hPEyiN9"
   },
   "source": [
    "3.2 Use cross-validation to compare models and select best set of hyperparameters"
   ]
  },
  {
   "cell_type": "code",
   "execution_count": 20,
   "metadata": {
    "colab": {
     "base_uri": "https://localhost:8080/"
    },
    "id": "bH6VlKBwyiN9",
    "outputId": "9aa7c9a7-fd96-4ce4-bf6a-af60256a34af"
   },
   "outputs": [
    {
     "name": "stderr",
     "output_type": "stream",
     "text": [
      "/Users/riyashuleva/opt/anaconda3/lib/python3.9/site-packages/sklearn/model_selection/_split.py:666: UserWarning: The least populated class in y has only 4 members, which is less than n_splits=10.\n",
      "  warnings.warn((\"The least populated class in y has only %d\"\n",
      "/Users/riyashuleva/opt/anaconda3/lib/python3.9/site-packages/sklearn/linear_model/_sag.py:328: ConvergenceWarning: The max_iter was reached which means the coef_ did not converge\n",
      "  warnings.warn(\"The max_iter was reached which means \"\n",
      "/Users/riyashuleva/opt/anaconda3/lib/python3.9/site-packages/sklearn/linear_model/_sag.py:328: ConvergenceWarning: The max_iter was reached which means the coef_ did not converge\n",
      "  warnings.warn(\"The max_iter was reached which means \"\n",
      "/Users/riyashuleva/opt/anaconda3/lib/python3.9/site-packages/sklearn/linear_model/_sag.py:328: ConvergenceWarning: The max_iter was reached which means the coef_ did not converge\n",
      "  warnings.warn(\"The max_iter was reached which means \"\n",
      "/Users/riyashuleva/opt/anaconda3/lib/python3.9/site-packages/sklearn/linear_model/_sag.py:328: ConvergenceWarning: The max_iter was reached which means the coef_ did not converge\n",
      "  warnings.warn(\"The max_iter was reached which means \"\n",
      "/Users/riyashuleva/opt/anaconda3/lib/python3.9/site-packages/sklearn/linear_model/_sag.py:328: ConvergenceWarning: The max_iter was reached which means the coef_ did not converge\n",
      "  warnings.warn(\"The max_iter was reached which means \"\n",
      "/Users/riyashuleva/opt/anaconda3/lib/python3.9/site-packages/sklearn/linear_model/_sag.py:328: ConvergenceWarning: The max_iter was reached which means the coef_ did not converge\n",
      "  warnings.warn(\"The max_iter was reached which means \"\n",
      "/Users/riyashuleva/opt/anaconda3/lib/python3.9/site-packages/sklearn/linear_model/_sag.py:328: ConvergenceWarning: The max_iter was reached which means the coef_ did not converge\n",
      "  warnings.warn(\"The max_iter was reached which means \"\n",
      "/Users/riyashuleva/opt/anaconda3/lib/python3.9/site-packages/sklearn/linear_model/_sag.py:328: ConvergenceWarning: The max_iter was reached which means the coef_ did not converge\n",
      "  warnings.warn(\"The max_iter was reached which means \"\n",
      "/Users/riyashuleva/opt/anaconda3/lib/python3.9/site-packages/sklearn/linear_model/_sag.py:328: ConvergenceWarning: The max_iter was reached which means the coef_ did not converge\n",
      "  warnings.warn(\"The max_iter was reached which means \"\n",
      "/Users/riyashuleva/opt/anaconda3/lib/python3.9/site-packages/sklearn/linear_model/_sag.py:328: ConvergenceWarning: The max_iter was reached which means the coef_ did not converge\n",
      "  warnings.warn(\"The max_iter was reached which means \"\n",
      "/Users/riyashuleva/opt/anaconda3/lib/python3.9/site-packages/sklearn/linear_model/_sag.py:328: ConvergenceWarning: The max_iter was reached which means the coef_ did not converge\n",
      "  warnings.warn(\"The max_iter was reached which means \"\n",
      "/Users/riyashuleva/opt/anaconda3/lib/python3.9/site-packages/sklearn/linear_model/_sag.py:328: ConvergenceWarning: The max_iter was reached which means the coef_ did not converge\n",
      "  warnings.warn(\"The max_iter was reached which means \"\n",
      "/Users/riyashuleva/opt/anaconda3/lib/python3.9/site-packages/sklearn/linear_model/_sag.py:328: ConvergenceWarning: The max_iter was reached which means the coef_ did not converge\n",
      "  warnings.warn(\"The max_iter was reached which means \"\n",
      "/Users/riyashuleva/opt/anaconda3/lib/python3.9/site-packages/sklearn/linear_model/_sag.py:328: ConvergenceWarning: The max_iter was reached which means the coef_ did not converge\n",
      "  warnings.warn(\"The max_iter was reached which means \"\n",
      "/Users/riyashuleva/opt/anaconda3/lib/python3.9/site-packages/sklearn/linear_model/_sag.py:328: ConvergenceWarning: The max_iter was reached which means the coef_ did not converge\n",
      "  warnings.warn(\"The max_iter was reached which means \"\n",
      "/Users/riyashuleva/opt/anaconda3/lib/python3.9/site-packages/sklearn/linear_model/_sag.py:328: ConvergenceWarning: The max_iter was reached which means the coef_ did not converge\n",
      "  warnings.warn(\"The max_iter was reached which means \"\n",
      "/Users/riyashuleva/opt/anaconda3/lib/python3.9/site-packages/sklearn/linear_model/_sag.py:328: ConvergenceWarning: The max_iter was reached which means the coef_ did not converge\n",
      "  warnings.warn(\"The max_iter was reached which means \"\n",
      "/Users/riyashuleva/opt/anaconda3/lib/python3.9/site-packages/sklearn/linear_model/_sag.py:328: ConvergenceWarning: The max_iter was reached which means the coef_ did not converge\n",
      "  warnings.warn(\"The max_iter was reached which means \"\n",
      "/Users/riyashuleva/opt/anaconda3/lib/python3.9/site-packages/sklearn/linear_model/_sag.py:328: ConvergenceWarning: The max_iter was reached which means the coef_ did not converge\n",
      "  warnings.warn(\"The max_iter was reached which means \"\n",
      "/Users/riyashuleva/opt/anaconda3/lib/python3.9/site-packages/sklearn/linear_model/_sag.py:328: ConvergenceWarning: The max_iter was reached which means the coef_ did not converge\n",
      "  warnings.warn(\"The max_iter was reached which means \"\n",
      "/Users/riyashuleva/opt/anaconda3/lib/python3.9/site-packages/sklearn/linear_model/_sag.py:328: ConvergenceWarning: The max_iter was reached which means the coef_ did not converge\n",
      "  warnings.warn(\"The max_iter was reached which means \"\n",
      "/Users/riyashuleva/opt/anaconda3/lib/python3.9/site-packages/sklearn/linear_model/_sag.py:328: ConvergenceWarning: The max_iter was reached which means the coef_ did not converge\n",
      "  warnings.warn(\"The max_iter was reached which means \"\n",
      "/Users/riyashuleva/opt/anaconda3/lib/python3.9/site-packages/sklearn/linear_model/_sag.py:328: ConvergenceWarning: The max_iter was reached which means the coef_ did not converge\n",
      "  warnings.warn(\"The max_iter was reached which means \"\n",
      "/Users/riyashuleva/opt/anaconda3/lib/python3.9/site-packages/sklearn/linear_model/_sag.py:328: ConvergenceWarning: The max_iter was reached which means the coef_ did not converge\n",
      "  warnings.warn(\"The max_iter was reached which means \"\n",
      "/Users/riyashuleva/opt/anaconda3/lib/python3.9/site-packages/sklearn/linear_model/_sag.py:328: ConvergenceWarning: The max_iter was reached which means the coef_ did not converge\n",
      "  warnings.warn(\"The max_iter was reached which means \"\n",
      "/Users/riyashuleva/opt/anaconda3/lib/python3.9/site-packages/sklearn/linear_model/_sag.py:328: ConvergenceWarning: The max_iter was reached which means the coef_ did not converge\n",
      "  warnings.warn(\"The max_iter was reached which means \"\n",
      "/Users/riyashuleva/opt/anaconda3/lib/python3.9/site-packages/sklearn/linear_model/_sag.py:328: ConvergenceWarning: The max_iter was reached which means the coef_ did not converge\n",
      "  warnings.warn(\"The max_iter was reached which means \"\n",
      "/Users/riyashuleva/opt/anaconda3/lib/python3.9/site-packages/sklearn/linear_model/_sag.py:328: ConvergenceWarning: The max_iter was reached which means the coef_ did not converge\n",
      "  warnings.warn(\"The max_iter was reached which means \"\n",
      "/Users/riyashuleva/opt/anaconda3/lib/python3.9/site-packages/sklearn/linear_model/_sag.py:328: ConvergenceWarning: The max_iter was reached which means the coef_ did not converge\n",
      "  warnings.warn(\"The max_iter was reached which means \"\n",
      "/Users/riyashuleva/opt/anaconda3/lib/python3.9/site-packages/sklearn/linear_model/_sag.py:328: ConvergenceWarning: The max_iter was reached which means the coef_ did not converge\n",
      "  warnings.warn(\"The max_iter was reached which means \"\n",
      "/Users/riyashuleva/opt/anaconda3/lib/python3.9/site-packages/sklearn/linear_model/_sag.py:328: ConvergenceWarning: The max_iter was reached which means the coef_ did not converge\n",
      "  warnings.warn(\"The max_iter was reached which means \"\n",
      "/Users/riyashuleva/opt/anaconda3/lib/python3.9/site-packages/sklearn/linear_model/_sag.py:328: ConvergenceWarning: The max_iter was reached which means the coef_ did not converge\n",
      "  warnings.warn(\"The max_iter was reached which means \"\n",
      "/Users/riyashuleva/opt/anaconda3/lib/python3.9/site-packages/sklearn/linear_model/_sag.py:328: ConvergenceWarning: The max_iter was reached which means the coef_ did not converge\n",
      "  warnings.warn(\"The max_iter was reached which means \"\n",
      "/Users/riyashuleva/opt/anaconda3/lib/python3.9/site-packages/sklearn/linear_model/_sag.py:328: ConvergenceWarning: The max_iter was reached which means the coef_ did not converge\n",
      "  warnings.warn(\"The max_iter was reached which means \"\n"
     ]
    },
    {
     "name": "stderr",
     "output_type": "stream",
     "text": [
      "/Users/riyashuleva/opt/anaconda3/lib/python3.9/site-packages/sklearn/linear_model/_sag.py:328: ConvergenceWarning: The max_iter was reached which means the coef_ did not converge\n",
      "  warnings.warn(\"The max_iter was reached which means \"\n",
      "/Users/riyashuleva/opt/anaconda3/lib/python3.9/site-packages/sklearn/linear_model/_sag.py:328: ConvergenceWarning: The max_iter was reached which means the coef_ did not converge\n",
      "  warnings.warn(\"The max_iter was reached which means \"\n",
      "/Users/riyashuleva/opt/anaconda3/lib/python3.9/site-packages/sklearn/linear_model/_sag.py:328: ConvergenceWarning: The max_iter was reached which means the coef_ did not converge\n",
      "  warnings.warn(\"The max_iter was reached which means \"\n",
      "/Users/riyashuleva/opt/anaconda3/lib/python3.9/site-packages/sklearn/linear_model/_sag.py:328: ConvergenceWarning: The max_iter was reached which means the coef_ did not converge\n",
      "  warnings.warn(\"The max_iter was reached which means \"\n",
      "/Users/riyashuleva/opt/anaconda3/lib/python3.9/site-packages/sklearn/linear_model/_sag.py:328: ConvergenceWarning: The max_iter was reached which means the coef_ did not converge\n",
      "  warnings.warn(\"The max_iter was reached which means \"\n",
      "/Users/riyashuleva/opt/anaconda3/lib/python3.9/site-packages/sklearn/linear_model/_sag.py:328: ConvergenceWarning: The max_iter was reached which means the coef_ did not converge\n",
      "  warnings.warn(\"The max_iter was reached which means \"\n",
      "/Users/riyashuleva/opt/anaconda3/lib/python3.9/site-packages/sklearn/linear_model/_sag.py:328: ConvergenceWarning: The max_iter was reached which means the coef_ did not converge\n",
      "  warnings.warn(\"The max_iter was reached which means \"\n",
      "/Users/riyashuleva/opt/anaconda3/lib/python3.9/site-packages/sklearn/linear_model/_sag.py:328: ConvergenceWarning: The max_iter was reached which means the coef_ did not converge\n",
      "  warnings.warn(\"The max_iter was reached which means \"\n",
      "/Users/riyashuleva/opt/anaconda3/lib/python3.9/site-packages/sklearn/linear_model/_sag.py:328: ConvergenceWarning: The max_iter was reached which means the coef_ did not converge\n",
      "  warnings.warn(\"The max_iter was reached which means \"\n",
      "/Users/riyashuleva/opt/anaconda3/lib/python3.9/site-packages/sklearn/linear_model/_sag.py:328: ConvergenceWarning: The max_iter was reached which means the coef_ did not converge\n",
      "  warnings.warn(\"The max_iter was reached which means \"\n",
      "/Users/riyashuleva/opt/anaconda3/lib/python3.9/site-packages/sklearn/linear_model/_sag.py:328: ConvergenceWarning: The max_iter was reached which means the coef_ did not converge\n",
      "  warnings.warn(\"The max_iter was reached which means \"\n",
      "/Users/riyashuleva/opt/anaconda3/lib/python3.9/site-packages/sklearn/linear_model/_sag.py:328: ConvergenceWarning: The max_iter was reached which means the coef_ did not converge\n",
      "  warnings.warn(\"The max_iter was reached which means \"\n",
      "/Users/riyashuleva/opt/anaconda3/lib/python3.9/site-packages/sklearn/linear_model/_sag.py:328: ConvergenceWarning: The max_iter was reached which means the coef_ did not converge\n",
      "  warnings.warn(\"The max_iter was reached which means \"\n",
      "/Users/riyashuleva/opt/anaconda3/lib/python3.9/site-packages/sklearn/linear_model/_sag.py:328: ConvergenceWarning: The max_iter was reached which means the coef_ did not converge\n",
      "  warnings.warn(\"The max_iter was reached which means \"\n",
      "/Users/riyashuleva/opt/anaconda3/lib/python3.9/site-packages/sklearn/linear_model/_sag.py:328: ConvergenceWarning: The max_iter was reached which means the coef_ did not converge\n",
      "  warnings.warn(\"The max_iter was reached which means \"\n",
      "/Users/riyashuleva/opt/anaconda3/lib/python3.9/site-packages/sklearn/linear_model/_sag.py:328: ConvergenceWarning: The max_iter was reached which means the coef_ did not converge\n",
      "  warnings.warn(\"The max_iter was reached which means \"\n",
      "/Users/riyashuleva/opt/anaconda3/lib/python3.9/site-packages/sklearn/linear_model/_sag.py:328: ConvergenceWarning: The max_iter was reached which means the coef_ did not converge\n",
      "  warnings.warn(\"The max_iter was reached which means \"\n",
      "/Users/riyashuleva/opt/anaconda3/lib/python3.9/site-packages/sklearn/linear_model/_sag.py:328: ConvergenceWarning: The max_iter was reached which means the coef_ did not converge\n",
      "  warnings.warn(\"The max_iter was reached which means \"\n",
      "/Users/riyashuleva/opt/anaconda3/lib/python3.9/site-packages/sklearn/linear_model/_sag.py:328: ConvergenceWarning: The max_iter was reached which means the coef_ did not converge\n",
      "  warnings.warn(\"The max_iter was reached which means \"\n",
      "/Users/riyashuleva/opt/anaconda3/lib/python3.9/site-packages/sklearn/linear_model/_sag.py:328: ConvergenceWarning: The max_iter was reached which means the coef_ did not converge\n",
      "  warnings.warn(\"The max_iter was reached which means \"\n",
      "/Users/riyashuleva/opt/anaconda3/lib/python3.9/site-packages/sklearn/linear_model/_sag.py:328: ConvergenceWarning: The max_iter was reached which means the coef_ did not converge\n",
      "  warnings.warn(\"The max_iter was reached which means \"\n",
      "/Users/riyashuleva/opt/anaconda3/lib/python3.9/site-packages/sklearn/linear_model/_sag.py:328: ConvergenceWarning: The max_iter was reached which means the coef_ did not converge\n",
      "  warnings.warn(\"The max_iter was reached which means \"\n",
      "/Users/riyashuleva/opt/anaconda3/lib/python3.9/site-packages/sklearn/linear_model/_sag.py:328: ConvergenceWarning: The max_iter was reached which means the coef_ did not converge\n",
      "  warnings.warn(\"The max_iter was reached which means \"\n",
      "/Users/riyashuleva/opt/anaconda3/lib/python3.9/site-packages/sklearn/linear_model/_sag.py:328: ConvergenceWarning: The max_iter was reached which means the coef_ did not converge\n",
      "  warnings.warn(\"The max_iter was reached which means \"\n",
      "/Users/riyashuleva/opt/anaconda3/lib/python3.9/site-packages/sklearn/linear_model/_sag.py:328: ConvergenceWarning: The max_iter was reached which means the coef_ did not converge\n",
      "  warnings.warn(\"The max_iter was reached which means \"\n",
      "/Users/riyashuleva/opt/anaconda3/lib/python3.9/site-packages/sklearn/linear_model/_sag.py:328: ConvergenceWarning: The max_iter was reached which means the coef_ did not converge\n",
      "  warnings.warn(\"The max_iter was reached which means \"\n"
     ]
    },
    {
     "data": {
      "text/plain": [
       "GridSearchCV(cv=10,\n",
       "             estimator=Pipeline(steps=[('transformer',\n",
       "                                        ColumnTransformer(remainder='passthrough',\n",
       "                                                          transformers=[('strings_to_lists',\n",
       "                                                                         Pipeline(steps=[('fillemptycat',\n",
       "                                                                                          FillEmptyCat()),\n",
       "                                                                                         ('listcreator',\n",
       "                                                                                          ListCreator()),\n",
       "                                                                                         ('onehotencoder',\n",
       "                                                                                          OneHotEncoder(handle_unknown='ignore'))]),\n",
       "                                                                         ['genre',\n",
       "                                                                          'country',\n",
       "                                                                          'language']),\n",
       "                                                                        ('frequency_encode',\n",
       "                                                                         Pipeline(steps=[('fillemp...\n",
       "             param_grid=[{'classifier': [RandomForestClassifier(max_depth=50,\n",
       "                                                                n_estimators=50,\n",
       "                                                                random_state=42)],\n",
       "                          'classifier__max_depth': [30, 40, 50],\n",
       "                          'classifier__n_estimators': [30, 40, 50]},\n",
       "                         {'classifier': [SVC()], 'classifier__C': [5, 7, 8],\n",
       "                          'classifier__gamma': ['auto', 'scale']},\n",
       "                         {'classifier': [LogisticRegression(solver='saga')],\n",
       "                          'classifier__C': [1, 5, 6],\n",
       "                          'classifier__penalty': ['l2', 'l1']}],\n",
       "             scoring='accuracy')"
      ]
     },
     "execution_count": 20,
     "metadata": {},
     "output_type": "execute_result"
    }
   ],
   "source": [
    "from sklearn.linear_model import LogisticRegression\n",
    "parametrs = [\n",
    "    {\n",
    "      'classifier': [RandomForestClassifier(random_state=42)],\n",
    "      'classifier__n_estimators': [30, 40, 50],\n",
    "      'classifier__max_depth': [30, 40, 50]\n",
    "    },\n",
    "    {\n",
    "        'classifier': [SVC()],\n",
    "        'classifier__C': [5, 7, 8],\n",
    "        'classifier__gamma': ['auto', 'scale']\n",
    "    },\n",
    "    {\n",
    "        'classifier': [LogisticRegression(solver='saga')],\n",
    "        'classifier__penalty': ['l2', 'l1'],\n",
    "        'classifier__C': [1, 5, 6]\n",
    "    }\n",
    "]\n",
    "\n",
    "grid_pipe = GridSearchCV(model, param_grid=parametrs, cv=10, scoring='accuracy',\n",
    "                        n_jobs=-1)\n",
    "grid_pipe.fit(X_train, y_train)"
   ]
  },
  {
   "cell_type": "markdown",
   "metadata": {
    "id": "E-A--4NbyiN9"
   },
   "source": [
    "3.3 Which model and setup is the best? How does it perform on the test dataset? If you were to present this model to the client, how would you describe it?"
   ]
  },
  {
   "cell_type": "code",
   "execution_count": 21,
   "metadata": {
    "id": "FwLLH5NryiN9"
   },
   "outputs": [
    {
     "name": "stdout",
     "output_type": "stream",
     "text": [
      "Best accuracy:  0.7324741226869035\n",
      "Best model setup:  RandomForestClassifier(max_depth=50, n_estimators=50, random_state=42)\n"
     ]
    }
   ],
   "source": [
    "print('Best accuracy: ', grid_pipe.best_score_)\n",
    "print('Best model setup: ', grid_pipe.best_estimator_.steps[1][1])"
   ]
  },
  {
   "cell_type": "markdown",
   "metadata": {
    "id": "U9PtJO0pjmeG"
   },
   "source": [
    "Performing model on a test dataset:"
   ]
  },
  {
   "cell_type": "code",
   "execution_count": 22,
   "metadata": {
    "id": "SS_V_YKeNd6J"
   },
   "outputs": [
    {
     "data": {
      "text/plain": [
       "0.7365448504983388"
      ]
     },
     "execution_count": 22,
     "metadata": {},
     "output_type": "execute_result"
    }
   ],
   "source": [
    "grid_pipe.best_estimator_.fit(X_train, y_train)\n",
    "y_pred = grid_pipe.best_estimator_.predict(X_test)\n",
    "accuracy_score(y_test, y_pred)"
   ]
  },
  {
   "cell_type": "markdown",
   "metadata": {
    "id": "rTVqKG0mSv19"
   },
   "source": [
    "Best setup model according to Grid Search CV is RandomForestClassifier(max_depth=40, n_estimators=50, random_state=42). It's accuacy on train dataset is equal to 0.73. \n",
    "\n",
    "Accuracy is a ratio of correctly predicted observation to the total observation. It means that 73% of observations were predicted correctly. \n",
    "\n",
    "Test data has 74% accuracy. It means that 74% of observations were predicted correctly. In my opinion it is a good measure for such inbalanced dataset. \n",
    "\n",
    "Also we can check f1 score: \n",
    "\n"
   ]
  },
  {
   "cell_type": "code",
   "execution_count": 23,
   "metadata": {},
   "outputs": [
    {
     "data": {
      "text/plain": [
       "0.7103588230663956"
      ]
     },
     "execution_count": 23,
     "metadata": {},
     "output_type": "execute_result"
    }
   ],
   "source": [
    "f1_score(y_test, y_pred, average='weighted')"
   ]
  },
  {
   "cell_type": "markdown",
   "metadata": {},
   "source": [
    "This model predicts the success of the film according ro public appreciation and taste: genre, language, amout of votes, reviews. Also it takes into account year and production company. This model is more about audience tastes and genres and countries. "
   ]
  },
  {
   "cell_type": "code",
   "execution_count": null,
   "metadata": {},
   "outputs": [],
   "source": []
  }
 ],
 "metadata": {
  "accelerator": "TPU",
  "colab": {
   "collapsed_sections": [],
   "history_visible": true,
   "provenance": []
  },
  "gpuClass": "standard",
  "kernelspec": {
   "display_name": "Python 3 (ipykernel)",
   "language": "python",
   "name": "python3"
  },
  "language_info": {
   "codemirror_mode": {
    "name": "ipython",
    "version": 3
   },
   "file_extension": ".py",
   "mimetype": "text/x-python",
   "name": "python",
   "nbconvert_exporter": "python",
   "pygments_lexer": "ipython3",
   "version": "3.9.7"
  }
 },
 "nbformat": 4,
 "nbformat_minor": 1
}
